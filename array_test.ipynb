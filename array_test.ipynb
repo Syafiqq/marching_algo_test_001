{
 "cells": [
  {
   "cell_type": "code",
   "execution_count": 40,
   "metadata": {
    "collapsed": true,
    "pycharm": {
     "name": "#%%\n"
    }
   },
   "outputs": [],
   "source": [
    "import numpy as np"
   ]
  },
  {
   "cell_type": "code",
   "execution_count": 41,
   "outputs": [],
   "source": [
    "def mapper(arr):\n",
    "    return [\n",
    "        [4, arr[0], arr[1], arr[2], arr[0]],\n",
    "        [4, arr[0], arr[1], arr[2], arr[0]]\n",
    "    ]"
   ],
   "metadata": {
    "collapsed": false,
    "pycharm": {
     "name": "#%%\n"
    }
   }
  },
  {
   "cell_type": "code",
   "execution_count": 42,
   "outputs": [
    {
     "data": {
      "text/plain": "array([4, 0, 1, 2, 0, 4, 0, 1, 2, 0, 4, 3, 1, 2, 3, 4, 3, 1, 2, 3])"
     },
     "execution_count": 42,
     "metadata": {},
     "output_type": "execute_result"
    }
   ],
   "source": [
    "dict = {}\n",
    "faces = []\n",
    "points = []\n",
    "\n",
    "digit_x = 1000\n",
    "digit_y = 1000\n",
    "\n",
    "max_z = digit_x * digit_y\n",
    "max_y = digit_x\n",
    "\n",
    "a = [\n",
    "    [0, 0, 0],\n",
    "    [0, 1, 0],\n",
    "    [1, 1, 0],\n",
    "]\n",
    "\n",
    "position = []\n",
    "for aa in a:\n",
    "    magnitude = aa[0] + (max_y * aa[1]) + (max_z * aa[2])\n",
    "    if dict.get(magnitude) is None:\n",
    "        points.append(aa)\n",
    "        dict[magnitude] = len(points) - 1\n",
    "    position.append(dict[magnitude])\n",
    "\n",
    "for m in mapper(position):\n",
    "    faces.append(m)\n",
    "\n",
    "a = [\n",
    "    [1, 0, 0],\n",
    "    [0, 1, 0],\n",
    "    [1, 1, 0],\n",
    "]\n",
    "\n",
    "position = []\n",
    "for aa in a:\n",
    "    magnitude = aa[0] + (max_y * aa[1]) + (max_z * aa[2])\n",
    "    if dict.get(magnitude) is None:\n",
    "        points.append(aa)\n",
    "        dict[magnitude] = len(points) - 1\n",
    "    position.append(dict[magnitude])\n",
    "\n",
    "for m in mapper(position):\n",
    "    faces.append(m)\n",
    "np.array(faces).flatten()"
   ],
   "metadata": {
    "collapsed": false,
    "pycharm": {
     "name": "#%%\n"
    }
   }
  }
 ],
 "metadata": {
  "kernelspec": {
   "display_name": "Python 3",
   "language": "python",
   "name": "python3"
  },
  "language_info": {
   "codemirror_mode": {
    "name": "ipython",
    "version": 2
   },
   "file_extension": ".py",
   "mimetype": "text/x-python",
   "name": "python",
   "nbconvert_exporter": "python",
   "pygments_lexer": "ipython2",
   "version": "2.7.6"
  }
 },
 "nbformat": 4,
 "nbformat_minor": 0
}