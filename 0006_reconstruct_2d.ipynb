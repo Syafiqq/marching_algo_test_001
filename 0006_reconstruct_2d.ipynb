{
 "cells": [
  {
   "cell_type": "markdown",
   "source": [
    "Define the grid"
   ],
   "metadata": {
    "collapsed": false,
    "pycharm": {
     "name": "#%% md\n"
    }
   }
  },
  {
   "cell_type": "code",
   "execution_count": 1,
   "outputs": [],
   "source": [
    "import numpy as np\n",
    "import pyvista as pv\n",
    "\n",
    "nxy_dims = 256\n",
    "nxy = int(nxy_dims * 1)\n",
    "dims = np.array([nxy, nxy, 1])\n",
    "dims_plus1 = [dims[0] + 1, dims[1] + 1, dims[2]]\n",
    "spacing = (nxy_dims / dims[0], nxy_dims / dims[1], 1)\n",
    "grid = pv.UniformGrid(\n",
    "    dims=dims_plus1,\n",
    "    spacing=spacing,\n",
    "    origin=(0, 0, 0),\n",
    ")\n",
    "points_t = np.transpose(grid.points.T)"
   ],
   "metadata": {
    "collapsed": false,
    "pycharm": {
     "name": "#%%\n"
    }
   }
  },
  {
   "cell_type": "markdown",
   "source": [
    "Find countour points"
   ],
   "metadata": {
    "collapsed": false,
    "pycharm": {
     "name": "#%% md\n"
    }
   }
  },
  {
   "cell_type": "code",
   "execution_count": 2,
   "metadata": {
    "collapsed": true,
    "pycharm": {
     "name": "#%%\n"
    }
   },
   "outputs": [],
   "source": [
    "import cv2 as cv\n",
    "from matplotlib.path import Path\n",
    "import matplotlib.patches as patches\n",
    "\n",
    "name = 'OAS1_0001_MR1_69_ccseg.tif'\n",
    "input_path = 'images/oas1'\n",
    "image_memory = cv.imread(f'{input_path}/{name}')\n",
    "inverted_image = cv.bitwise_not(image_memory)\n",
    "img_gray = cv.cvtColor(inverted_image, cv.COLOR_BGR2GRAY)\n",
    "ret, thresh = cv.threshold(img_gray, 150, 255, cv.THRESH_BINARY)\n",
    "im2, contours, hierarchy = cv.findContours(image=thresh, mode=cv.RETR_TREE, method=cv.CHAIN_APPROX_NONE)\n",
    "\n",
    "multi_points = []\n",
    "for contour in contours:\n",
    "    contour_points = contour[:,0]\n",
    "    path = Path(contour_points, closed=True)\n",
    "    patch = patches.PathPatch(path, facecolor=None, lw=1, antialiased=True)\n",
    "    vertices = patch.get_path().vertices\n",
    "    trans = patch.get_patch_transform()\n",
    "    points = trans.transform(vertices)\n",
    "    multi_points.append(points)"
   ]
  },
  {
   "cell_type": "markdown",
   "source": [
    "Define point clouds"
   ],
   "metadata": {
    "collapsed": false,
    "pycharm": {
     "name": "#%% md\n"
    }
   }
  },
  {
   "cell_type": "code",
   "execution_count": 3,
   "outputs": [],
   "source": [
    "from shapely.geometry import Polygon, MultiPolygon, Point\n",
    "\n",
    "multi_multipolygon = []\n",
    "for points in multi_points:\n",
    "    poly = Polygon(points)\n",
    "    poly_big = poly.buffer(1e-6)\n",
    "    if poly_big.geom_type == 'MultiPolygon':\n",
    "        pass\n",
    "    elif poly_big.geom_type == 'Polygon':\n",
    "        poly_big = MultiPolygon([poly_big])\n",
    "    else:\n",
    "        pass\n",
    "    multi_multipolygon.append(poly_big)\n",
    "\n",
    "points_i = []\n",
    "points_i_only = []\n",
    "for i, o in enumerate(points_t):\n",
    "    point = Point(o[:2])\n",
    "    inserted = False\n",
    "    for multipolygon in multi_multipolygon:\n",
    "        if multipolygon.contains(point):\n",
    "            points_i_only.append(o)\n",
    "            inserted = True\n",
    "            break\n",
    "    points_i.append(1 if inserted else 0)"
   ],
   "metadata": {
    "collapsed": false,
    "pycharm": {
     "name": "#%%\n"
    }
   }
  },
  {
   "cell_type": "markdown",
   "source": [
    "Find Points square and Points type"
   ],
   "metadata": {
    "collapsed": false,
    "pycharm": {
     "name": "#%% md\n"
    }
   }
  },
  {
   "cell_type": "code",
   "execution_count": 4,
   "outputs": [],
   "source": [
    "cxy = dims[0] * dims[1]\n",
    "cx = dims[0]\n",
    "cxy_plus1 = dims_plus1[0] * dims_plus1[1]\n",
    "cx_plus1 = dims_plus1[0]\n",
    "\n",
    "points_square = []\n",
    "points_type = []\n",
    "\n",
    "for i in np.arange(0, np.prod(dims), 1, dtype=np.int):\n",
    "    dz = i // cxy                                       # i div (dimension x and y) to get axis z\n",
    "    dz_r = i - (dz * cxy)                               # get the remaining of dz\n",
    "    dy = dz_r // cx                                     # remain of dz div (dimension of x) to get axis y\n",
    "    dy_r = dz_r - (dy * cx)                             # get the remaining of dy\n",
    "    dx = dy_r                                           # get the dx\n",
    "\n",
    "    pt = dz * cxy_plus1 + dy * cx_plus1 + dx * 1        # mapping value to match array of points\n",
    "    p0 = pt                                             # find the lowest x\n",
    "    p1 = pt + 1                                         # find the lowest x + 1\n",
    "    p2 = p0 + cx_plus1                                  # find the lowest x with y + 1\n",
    "    p3 = p1 + cx_plus1                                  # find the lowest x + 1 with y + 1\n",
    "\n",
    "    points_square.append(\n",
    "        np.array(\n",
    "            [\n",
    "                points_t[p0],\n",
    "                points_t[p1],\n",
    "                points_t[p2],\n",
    "                points_t[p3]\n",
    "            ]\n",
    "        )\n",
    "    )\n",
    "\n",
    "    points_type.append(\n",
    "        (points_i[p0] << 3) + (points_i[p1] << 2) + (points_i[p2] << 1) + (points_i[p3] << 0)\n",
    "    )"
   ],
   "metadata": {
    "collapsed": false,
    "pycharm": {
     "name": "#%%\n"
    }
   }
  },
  {
   "cell_type": "markdown",
   "source": [
    "Draw the pointclouds to grid, a.k.a reconstruct\n"
   ],
   "metadata": {
    "collapsed": false,
    "pycharm": {
     "name": "#%% md\n"
    }
   }
  },
  {
   "cell_type": "code",
   "execution_count": 5,
   "outputs": [],
   "source": [
    "import math\n",
    "import marching_2d_rules_1 as rules\n",
    "\n",
    "def num_digits(n):\n",
    "    if n > 0:\n",
    "        digits = int(math.log10(n)) + 1\n",
    "    elif n == 0:\n",
    "        digits = 1\n",
    "    else:\n",
    "        digits = int(math.log10(-n)) + 2\n",
    "    return digits\n",
    "\n",
    "dictionary = {}\n",
    "points_p = []\n",
    "faces_p = []\n",
    "\n",
    "digit_x = 10 ** (num_digits(nxy) + 1)\n",
    "digit_y = 10 ** (num_digits(nxy) + 1)\n",
    "\n",
    "max_z = digit_x * digit_y\n",
    "max_y = digit_x\n",
    "\n",
    "for i, o in enumerate(points_square):\n",
    "    poly_points = rules.to_points(o, points_type[i])\n",
    "    position = []\n",
    "    for poly_point in poly_points:\n",
    "        magnitude = poly_point[0] + (max_y * (poly_point[1] + 1)) + (max_z * (poly_point[2] + 1))\n",
    "        if dictionary.get(magnitude) is None:\n",
    "            points_p.append(poly_point)\n",
    "            dictionary[magnitude] = len(points_p) - 1\n",
    "        position.append(dictionary[magnitude])\n",
    "    for poly_face in rules.to_faces(position, points_type[i]):\n",
    "        faces_p.append(poly_face)\n",
    "\n",
    "polyline = pv.PolyData(points_p, faces=np.array(faces_p).flatten())"
   ],
   "metadata": {
    "collapsed": false,
    "pycharm": {
     "name": "#%%\n"
    }
   }
  },
  {
   "cell_type": "markdown",
   "source": [
    "Add extrusion"
   ],
   "metadata": {
    "collapsed": false,
    "pycharm": {
     "name": "#%% md\n"
    }
   }
  },
  {
   "cell_type": "code",
   "execution_count": 6,
   "outputs": [],
   "source": [
    "polyline = polyline.extrude((0, 0, 1), capping=True)\n",
    "polyline = polyline.clean()"
   ],
   "metadata": {
    "collapsed": false,
    "pycharm": {
     "name": "#%%\n"
    }
   }
  },
  {
   "cell_type": "markdown",
   "source": [
    "Export to obj"
   ],
   "metadata": {
    "collapsed": false,
    "pycharm": {
     "name": "#%% md\n"
    }
   }
  },
  {
   "cell_type": "code",
   "execution_count": 7,
   "outputs": [],
   "source": [
    "output_path = 'objs'\n",
    "polyline.save(f'{output_path}/{name}.stl')"
   ],
   "metadata": {
    "collapsed": false,
    "pycharm": {
     "name": "#%%\n"
    }
   }
  },
  {
   "cell_type": "markdown",
   "source": [],
   "metadata": {
    "collapsed": false,
    "pycharm": {
     "name": "#%% md\n"
    }
   }
  }
 ],
 "metadata": {
  "kernelspec": {
   "display_name": "Python 3",
   "language": "python",
   "name": "python3"
  },
  "language_info": {
   "codemirror_mode": {
    "name": "ipython",
    "version": 2
   },
   "file_extension": ".py",
   "mimetype": "text/x-python",
   "name": "python",
   "nbconvert_exporter": "python",
   "pygments_lexer": "ipython2",
   "version": "2.7.6"
  }
 },
 "nbformat": 4,
 "nbformat_minor": 0
}