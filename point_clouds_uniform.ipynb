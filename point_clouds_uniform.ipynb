{
 "cells": [
  {
   "cell_type": "code",
   "execution_count": 3,
   "outputs": [],
   "source": [
    "import numpy as np\n",
    "import pyvista as pv"
   ],
   "metadata": {
    "collapsed": false,
    "pycharm": {
     "name": "#%%\n"
    }
   }
  },
  {
   "cell_type": "code",
   "execution_count": 4,
   "outputs": [],
   "source": [
    "n = 3\n",
    "grid = pv.UniformGrid(\n",
    "    dims=(n, n, n),\n",
    "    spacing=(2, 2, 2),\n",
    "    origin=(0, 0, 0),\n",
    ")"
   ],
   "metadata": {
    "collapsed": false,
    "pycharm": {
     "name": "#%%\n"
    }
   }
  },
  {
   "cell_type": "code",
   "execution_count": 5,
   "outputs": [
    {
     "data": {
      "text/plain": "array([[0., 2., 4., 0., 2., 4., 0., 2., 4., 0., 2., 4., 0., 2., 4., 0.,\n        2., 4., 0., 2., 4., 0., 2., 4., 0., 2., 4.],\n       [0., 0., 0., 2., 2., 2., 4., 4., 4., 0., 0., 0., 2., 2., 2., 4.,\n        4., 4., 0., 0., 0., 2., 2., 2., 4., 4., 4.],\n       [0., 0., 0., 0., 0., 0., 0., 0., 0., 2., 2., 2., 2., 2., 2., 2.,\n        2., 2., 4., 4., 4., 4., 4., 4., 4., 4., 4.]])"
     },
     "execution_count": 5,
     "metadata": {},
     "output_type": "execute_result"
    }
   ],
   "source": [
    "grid.points.T"
   ],
   "metadata": {
    "collapsed": false,
    "pycharm": {
     "name": "#%%\n"
    }
   }
  }
 ],
 "metadata": {
  "kernelspec": {
   "display_name": "Python 3",
   "language": "python",
   "name": "python3"
  },
  "language_info": {
   "codemirror_mode": {
    "name": "ipython",
    "version": 2
   },
   "file_extension": ".py",
   "mimetype": "text/x-python",
   "name": "python",
   "nbconvert_exporter": "python",
   "pygments_lexer": "ipython2",
   "version": "2.7.6"
  }
 },
 "nbformat": 4,
 "nbformat_minor": 0
}